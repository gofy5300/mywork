{
 "cells": [
  {
   "cell_type": "markdown",
   "metadata": {},
   "source": [
    "#建立類別\n"
   ]
  },
  {
   "cell_type": "code",
   "execution_count": 1,
   "metadata": {},
   "outputs": [],
   "source": [
    "class card:\n",
    "    suit=3\n",
    "    rank=5"
   ]
  },
  {
   "cell_type": "code",
   "execution_count": 2,
   "metadata": {},
   "outputs": [],
   "source": [
    "card01=card()"
   ]
  },
  {
   "cell_type": "code",
   "execution_count": 3,
   "metadata": {},
   "outputs": [
    {
     "data": {
      "text/plain": [
       "__main__.card"
      ]
     },
     "execution_count": 3,
     "metadata": {},
     "output_type": "execute_result"
    }
   ],
   "source": [
    "type(card01)"
   ]
  },
  {
   "cell_type": "code",
   "execution_count": 4,
   "metadata": {},
   "outputs": [],
   "source": [
    "card01.suit=2"
   ]
  },
  {
   "cell_type": "code",
   "execution_count": 5,
   "metadata": {},
   "outputs": [],
   "source": [
    "card01.rank=5\n"
   ]
  },
  {
   "cell_type": "code",
   "execution_count": 6,
   "metadata": {},
   "outputs": [
    {
     "data": {
      "text/plain": [
       "__main__.card"
      ]
     },
     "execution_count": 6,
     "metadata": {},
     "output_type": "execute_result"
    }
   ],
   "source": [
    "type(card01)\n"
   ]
  },
  {
   "cell_type": "code",
   "execution_count": 20,
   "metadata": {},
   "outputs": [],
   "source": [
    "class Card:\n",
    "    SUITS=['♠','♣','♦','♥']          \n",
    "    RANKS=['A','2','3','4','5','6','7','8','9','10','J','Q','k']\n",
    "    \n",
    "    def __init__(self,s,r):\n",
    "        #底線要兩格(init是指'初始'狀態)\n",
    "        self.suit=s\n",
    "        self.rank=r\n",
    "    def show(self):\n",
    "        print(self.SUITS[self.suit]+self.RANKS[self.rank])\n",
    "    "
   ]
  },
  {
   "cell_type": "code",
   "execution_count": 22,
   "metadata": {},
   "outputs": [],
   "source": [
    "card01=Card(0,3)"
   ]
  },
  {
   "cell_type": "code",
   "execution_count": 23,
   "metadata": {},
   "outputs": [
    {
     "name": "stdout",
     "output_type": "stream",
     "text": [
      "♠4\n"
     ]
    }
   ],
   "source": [
    "card01.show()"
   ]
  },
  {
   "cell_type": "code",
   "execution_count": 18,
   "metadata": {},
   "outputs": [
    {
     "data": {
      "text/plain": [
       "3"
      ]
     },
     "execution_count": 18,
     "metadata": {},
     "output_type": "execute_result"
    }
   ],
   "source": [
    "card01.rank"
   ]
  },
  {
   "cell_type": "code",
   "execution_count": 26,
   "metadata": {},
   "outputs": [],
   "source": [
    "class Card:\n",
    "    SUITS=['♠','♣','♦','♥']          \n",
    "    RANKS=['A','2','3','4','5','6','7','8','9','10','J','Q','k']\n",
    "    \n",
    "    def __init__(self,s,r):\n",
    "        #底線要兩格(init是指'初始'狀態)\n",
    "        self.suit=s\n",
    "        self.rank=r\n",
    "    def __repr__(self):\n",
    "        #底線要兩格\n",
    "        return self.SUITS[self.suit]+self.RANKS[self.rank]\n",
    "    #return 後面可以不加()\n",
    "    #repr定義希望呈現的方式\n",
    "    #class是定義新的資料型態的一種模式，不常用但要懂這!樣的概念!\n",
    "    \n",
    "    "
   ]
  },
  {
   "cell_type": "code",
   "execution_count": 29,
   "metadata": {},
   "outputs": [],
   "source": [
    "card01=Card(0,9)\n"
   ]
  },
  {
   "cell_type": "raw",
   "metadata": {},
   "source": [
    "card01\n"
   ]
  },
  {
   "cell_type": "code",
   "execution_count": 31,
   "metadata": {},
   "outputs": [
    {
     "data": {
      "text/plain": [
       "♠10"
      ]
     },
     "execution_count": 31,
     "metadata": {},
     "output_type": "execute_result"
    }
   ],
   "source": [
    "card01"
   ]
  },
  {
   "cell_type": "code",
   "execution_count": 3,
   "metadata": {},
   "outputs": [],
   "source": [
    "name=\"峰菖\"\n",
    "age=30"
   ]
  },
  {
   "cell_type": "code",
   "execution_count": 4,
   "metadata": {},
   "outputs": [],
   "source": [
    "#格式化1\n",
    "message=\"hellow,my name is %s,my age is%d years old \"%(name,age)"
   ]
  },
  {
   "cell_type": "code",
   "execution_count": 5,
   "metadata": {},
   "outputs": [
    {
     "name": "stdout",
     "output_type": "stream",
     "text": [
      "hellow,my name is 峰菖,my age is30 years old \n"
     ]
    }
   ],
   "source": [
    "print(message)"
   ]
  },
  {
   "cell_type": "markdown",
   "metadata": {},
   "source": [
    "#格式化2\n",
    "\n",
    "\n",
    "message=\"hellow,my name is {},my age is{} years old \".format(name,age)"
   ]
  },
  {
   "cell_type": "code",
   "execution_count": 8,
   "metadata": {},
   "outputs": [
    {
     "name": "stdout",
     "output_type": "stream",
     "text": [
      "hellow,my name is 峰菖,my age is30 years old \n"
     ]
    }
   ],
   "source": [
    "message=\"hellow,my name is {},my age is{} years old \".format(name,age)\n",
    "print(message)"
   ]
  },
  {
   "cell_type": "code",
   "execution_count": 9,
   "metadata": {},
   "outputs": [],
   "source": [
    "#3.6板後才有的指令\n",
    "\n",
    "message=f\"hellow,my name is {name},my age is{age} years old \""
   ]
  },
  {
   "cell_type": "code",
   "execution_count": 10,
   "metadata": {},
   "outputs": [
    {
     "name": "stdout",
     "output_type": "stream",
     "text": [
      "hellow,my name is 峰菖,my age is30 years old \n"
     ]
    }
   ],
   "source": [
    "print(message)"
   ]
  },
  {
   "cell_type": "code",
   "execution_count": 11,
   "metadata": {},
   "outputs": [],
   "source": [
    "c=31.0655483"
   ]
  },
  {
   "cell_type": "code",
   "execution_count": 13,
   "metadata": {},
   "outputs": [
    {
     "name": "stdout",
     "output_type": "stream",
     "text": [
      "1usd to twd=31.0655483元\n"
     ]
    }
   ],
   "source": [
    "print(f\"1usd to twd={c}元\")"
   ]
  },
  {
   "cell_type": "code",
   "execution_count": 14,
   "metadata": {},
   "outputs": [
    {
     "name": "stdout",
     "output_type": "stream",
     "text": [
      "1usd to twd=31.07元\n"
     ]
    }
   ],
   "source": [
    "#.2f是小數點兩位的意思\n",
    "print(f\"1usd to twd={c:.2f}元\")"
   ]
  },
  {
   "cell_type": "code",
   "execution_count": 15,
   "metadata": {},
   "outputs": [
    {
     "name": "stdout",
     "output_type": "stream",
     "text": [
      "1usd to twd=     31.07元\n"
     ]
    }
   ],
   "source": [
    "#10.2f是有10個位置放入含小數點兩位數字的意思\n",
    "\n",
    "print(f\"1usd to twd={c:10.2f}元\")"
   ]
  },
  {
   "cell_type": "code",
   "execution_count": 17,
   "metadata": {},
   "outputs": [
    {
     "name": "stdout",
     "output_type": "stream",
     "text": [
      "1usd to twd=31.0711111元\n"
     ]
    }
   ],
   "source": [
    "#0<10.2f是靠右對齊的意思\n",
    "print(f\"1usd to twd={c:1<10.2f}元\")"
   ]
  },
  {
   "cell_type": "code",
   "execution_count": 19,
   "metadata": {},
   "outputs": [
    {
     "name": "stdout",
     "output_type": "stream",
     "text": [
      "1usd to twd=0031.07000元\n"
     ]
    }
   ],
   "source": [
    "#0^10.2f是置中對齊的意思\n",
    "print(f\"1usd to twd={c:0^10.2f}元\")"
   ]
  },
  {
   "cell_type": "code",
   "execution_count": 11,
   "metadata": {},
   "outputs": [
    {
     "name": "stdout",
     "output_type": "stream",
     "text": [
      "       *        \n",
      "       **       \n",
      "      ***       \n",
      "      ****      \n",
      "     *****      \n",
      "     ******     \n",
      "    *******     \n",
      "    ********    \n",
      "   *********    \n",
      "   **********   \n",
      "  ***********   \n"
     ]
    }
   ],
   "source": [
    "for i in range(1,12,1):\n",
    "    star=\"*\"*i\n",
    "    print(f\"{star:^16s}\")"
   ]
  },
  {
   "cell_type": "code",
   "execution_count": 41,
   "metadata": {},
   "outputs": [],
   "source": [
    "#choice可重複的選擇\n",
    "#sample不會重複的選擇\n",
    "word=\"u \",\"s\",\"d\",\"k\"\n",
    "from random import choice"
   ]
  },
  {
   "cell_type": "code",
   "execution_count": 42,
   "metadata": {},
   "outputs": [
    {
     "data": {
      "text/plain": [
       "'u '"
      ]
     },
     "execution_count": 42,
     "metadata": {},
     "output_type": "execute_result"
    }
   ],
   "source": [
    "choice(word)"
   ]
  },
  {
   "cell_type": "code",
   "execution_count": 43,
   "metadata": {},
   "outputs": [],
   "source": [
    "from random import sample"
   ]
  },
  {
   "cell_type": "code",
   "execution_count": 45,
   "metadata": {},
   "outputs": [
    {
     "data": {
      "text/plain": [
       "['u ', 'k', 'd']"
      ]
     },
     "execution_count": 45,
     "metadata": {},
     "output_type": "execute_result"
    }
   ],
   "source": [
    "sample(word,3)\n"
   ]
  },
  {
   "cell_type": "code",
   "execution_count": 1,
   "metadata": {},
   "outputs": [],
   "source": [
    "st='''\n",
    "你好\n",
    "我好\n",
    "他好開心\n",
    "快樂\n",
    "痛苦\n",
    "'''"
   ]
  },
  {
   "cell_type": "code",
   "execution_count": 2,
   "metadata": {},
   "outputs": [
    {
     "data": {
      "text/plain": [
       "'\\n你好\\n我好\\n他好開心\\n快樂\\n痛苦\\n'"
      ]
     },
     "execution_count": 2,
     "metadata": {},
     "output_type": "execute_result"
    }
   ],
   "source": [
    "st\n"
   ]
  },
  {
   "cell_type": "code",
   "execution_count": 3,
   "metadata": {},
   "outputs": [
    {
     "data": {
      "text/plain": [
       "['', '你好', '我好', '他好開心', '快樂', '痛苦', '']"
      ]
     },
     "execution_count": 3,
     "metadata": {},
     "output_type": "execute_result"
    }
   ],
   "source": [
    "st.split('\\n')"
   ]
  },
  {
   "cell_type": "code",
   "execution_count": 4,
   "metadata": {},
   "outputs": [],
   "source": [
    "words='''\n",
    "我\n",
    "我的\n",
    "妳\n",
    "妳的\n",
    "心\n",
    "溫柔\n",
    "日子\n",
    "雨\n",
    "風\n",
    "天空\n",
    "雲\n",
    "等待\n",
    "哭泣\n",
    "戀愛\n",
    "相遇\n",
    "分離\n",
    "忘記\n",
    "心醉\n",
    "驀然\n",
    "吹過\n",
    "思念\n",
    "靈魂\n",
    "停止'''"
   ]
  },
  {
   "cell_type": "code",
   "execution_count": 4,
   "metadata": {},
   "outputs": [
    {
     "data": {
      "text/plain": [
       "['靈', '空', '\\n', '等', '柔', '妳']"
      ]
     },
     "execution_count": 4,
     "metadata": {},
     "output_type": "execute_result"
    }
   ],
   "source": [
    "words='''\n",
    "我\n",
    "我的\n",
    "妳\n",
    "妳的\n",
    "心\n",
    "溫柔\n",
    "日子\n",
    "雨\n",
    "風\n",
    "天空\n",
    "雲\n",
    "等待\n",
    "哭泣\n",
    "戀愛\n",
    "相遇\n",
    "分離\n",
    "忘記\n",
    "心醉\n",
    "驀然\n",
    "吹過\n",
    "思念\n",
    "靈魂\n",
    "停止'''\n",
    "from random import sample\n",
    "words.split('\\n')\n",
    "sample(words,6)\n"
   ]
  },
  {
   "cell_type": "code",
   "execution_count": 32,
   "metadata": {},
   "outputs": [],
   "source": [
    "words='''\n",
    "我\n",
    "我的\n",
    "妳\n",
    "妳的\n",
    "心\n",
    "溫柔\n",
    "日子\n",
    "雨\n",
    "風\n",
    "天空\n",
    "雲\n",
    "等待\n",
    "哭泣\n",
    "戀愛\n",
    "相遇\n",
    "分離\n",
    "忘記\n",
    "心醉\n",
    "驀然\n",
    "吹過\n",
    "思念\n",
    "靈魂\n",
    "停止'''"
   ]
  },
  {
   "cell_type": "code",
   "execution_count": 5,
   "metadata": {},
   "outputs": [],
   "source": [
    "from random import randint,choices,sample"
   ]
  },
  {
   "cell_type": "code",
   "execution_count": 6,
   "metadata": {},
   "outputs": [],
   "source": [
    "st1=words.split('\\n')"
   ]
  },
  {
   "cell_type": "code",
   "execution_count": 7,
   "metadata": {},
   "outputs": [],
   "source": [
    "def poem():\n",
    "\n",
    "    n=randint(5,10)\n",
    "    \n",
    "    for i in range(n):\n",
    "        m=randint(3,6)\n",
    "        sentence=sample(st1, m)\n",
    "        print(\" \".join(sentence))"
   ]
  },
  {
   "cell_type": "code",
   "execution_count": 10,
   "metadata": {},
   "outputs": [
    {
     "name": "stdout",
     "output_type": "stream",
     "text": [
      "日子 思念 哭泣 妳 心\n",
      "相遇 心醉 靈魂 雲\n",
      "妳的 分離 心醉 哭泣\n",
      "吹過 我的 溫柔 停止 驀然 風\n",
      "停止 風 等待 分離\n",
      "我 我的 等待 吹過 驀然 停止\n",
      "溫柔 妳 妳的 我 日子 驀然\n"
     ]
    }
   ],
   "source": [
    "poem()"
   ]
  },
  {
   "cell_type": "code",
   "execution_count": 36,
   "metadata": {},
   "outputs": [
    {
     "name": "stdout",
     "output_type": "stream",
     "text": [
      "吹過 溫柔 我\n",
      "驀然 相遇 溫柔 靈魂  心\n",
      "日子 風 驀然  戀愛\n",
      "戀愛 心 天空\n",
      "雨 哭泣 驀然 思念 妳\n",
      "日子 停止 心 溫柔  思念\n",
      "停止 分離 驀然 思念 等待\n",
      "我的 風 我 妳的 妳\n",
      "我  心 妳的 日子 等待\n",
      "雲 心 相遇\n"
     ]
    }
   ],
   "source": [
    "poem()\n"
   ]
  },
  {
   "cell_type": "code",
   "execution_count": 9,
   "metadata": {},
   "outputs": [
    {
     "name": "stdout",
     "output_type": "stream",
     "text": [
      " 停止 日子 我 相遇 溫柔\n",
      "日子 忘記 靈魂\n",
      "哭泣 我的 忘記 心醉 溫柔 分離\n",
      "心 戀愛 風 停止 雲 妳的\n",
      "妳 風 妳的 雲 我的 吹過\n",
      "天空  妳的 相遇 雲 戀愛\n",
      "妳的 等待 日子 溫柔 相遇\n",
      "等待 心 風 吹過\n",
      "靈魂 心 驀然\n"
     ]
    }
   ],
   "source": [
    "poem()"
   ]
  },
  {
   "cell_type": "code",
   "execution_count": 38,
   "metadata": {},
   "outputs": [
    {
     "data": {
      "text/plain": [
       "['',\n",
       " '我',\n",
       " '我的',\n",
       " '妳',\n",
       " '妳的',\n",
       " '心',\n",
       " '溫柔',\n",
       " '日子',\n",
       " '雨',\n",
       " '風',\n",
       " '天空',\n",
       " '雲',\n",
       " '等待',\n",
       " '哭泣',\n",
       " '戀愛',\n",
       " '相遇',\n",
       " '分離',\n",
       " '忘記',\n",
       " '心醉',\n",
       " '驀然',\n",
       " '吹過',\n",
       " '思念',\n",
       " '靈魂',\n",
       " '停止']"
      ]
     },
     "execution_count": 38,
     "metadata": {},
     "output_type": "execute_result"
    }
   ],
   "source": [
    "list(st1)"
   ]
  },
  {
   "cell_type": "code",
   "execution_count": 39,
   "metadata": {},
   "outputs": [
    {
     "name": "stdout",
     "output_type": "stream",
     "text": [
      "The following commands were written to file `1080722-1.py`:\n",
      "from random import randint,choices,sample\n",
      "words='''\n",
      "我\n",
      "我的\n",
      "妳\n",
      "妳的\n",
      "心\n",
      "溫柔\n",
      "日子\n",
      "雨\n",
      "風\n",
      "天空\n",
      "雲\n",
      "等待\n",
      "哭泣\n",
      "戀愛\n",
      "相遇\n",
      "分離\n",
      "忘記\n",
      "心醉\n",
      "驀然\n",
      "吹過\n",
      "思念\n",
      "靈魂\n",
      "停止'''\n",
      "st1=words.split('\\n')\n",
      "def poem():\n",
      "\n",
      "    n=randint(5,10)\n",
      "    \n",
      "    for i in range(n):\n",
      "        m=randint(3,6)\n",
      "        sentence=sample(st1, m)\n",
      "        print(\" \".join(sentence))\n",
      "poem()\n"
     ]
    }
   ],
   "source": [
    "%save \"1080722-1.py\" 20 32 33 34 35"
   ]
  },
  {
   "cell_type": "code",
   "execution_count": 12,
   "metadata": {},
   "outputs": [
    {
     "name": "stdout",
     "output_type": "stream",
     "text": [
      "       *        \n",
      "       **       \n",
      "      ***       \n",
      "      ****      \n",
      "     *****      \n",
      "     ******     \n",
      "    *******     \n",
      "    ********    \n",
      "   *********    \n",
      "   **********   \n",
      "  ***********   \n"
     ]
    }
   ],
   "source": [
    "for i in range(1,12,1):\n",
    "    star=\"*\"*i\n",
    "    print(f\"{star:^16s}\")"
   ]
  },
  {
   "cell_type": "code",
   "execution_count": 14,
   "metadata": {},
   "outputs": [],
   "source": [
    "from random import choice,sample\n",
    "from IPython.display import display, Markdown\n",
    "\n",
    "md_win = \"## 玩家獲勝\"\n",
    "md01 = Markdown(md_win)\n",
    "md_lose = \"## 電腦獲勝\"\n",
    "md02 = Markdown(md_lose)\n",
    "md_flat = \"## 雙方平手\"\n",
    "md03 = Markdown(md_flat)\n",
    "\n",
    "class Card:\n",
    "    SUITS=[\"♠\",\"♥\",\"♦\",\"♣\"]\n",
    "    RANKS=['A','2','3','4','5','6','7','8','9','10','J','Q','K']\n",
    "    \n",
    "    def __init__(self, s, r):\n",
    "        self.suit = s\n",
    "        self.rank = r\n",
    "    \n",
    "    def show(self):\n",
    "        print(self.SUITS[self.suit] + self.RANKS[self.rank])\n",
    "\n",
    "def cardgame():\n",
    "    player=input('玩家抽牌')\n",
    "    \n",
    "    a=int(choice(range(4)))\n",
    "    b=int(choice(range(13)))\n",
    "    card01=Card(a,b) \n",
    "    card01.show()\n",
    "    \n",
    "    computer=input('電腦抽牌')\n",
    "    \n",
    "    c=int(choice(range(4)))\n",
    "    d=int(choice(range(13)))\n",
    "    card02=Card(c,d) \n",
    "    card02.show()\n",
    "    \n",
    "    if b>d:\n",
    "        display(md01)\n",
    "    elif d>b:\n",
    "        display(md02)\n",
    "    elif a>c:\n",
    "        display(md01)\n",
    "    elif c>a:\n",
    "        display(md02)\n",
    "    else:\n",
    "        display(md03)"
   ]
  },
  {
   "cell_type": "code",
   "execution_count": 17,
   "metadata": {},
   "outputs": [
    {
     "name": "stdout",
     "output_type": "stream",
     "text": [
      "玩家抽牌\n",
      "♦10\n",
      "電腦抽牌\n",
      "♥10\n"
     ]
    },
    {
     "data": {
      "text/markdown": [
       "## 玩家獲勝"
      ],
      "text/plain": [
       "<IPython.core.display.Markdown object>"
      ]
     },
     "metadata": {},
     "output_type": "display_data"
    }
   ],
   "source": [
    "cardgame()"
   ]
  },
  {
   "cell_type": "code",
   "execution_count": null,
   "metadata": {},
   "outputs": [],
   "source": []
  }
 ],
 "metadata": {
  "kernelspec": {
   "display_name": "Python 3",
   "language": "python",
   "name": "python3"
  },
  "language_info": {
   "codemirror_mode": {
    "name": "ipython",
    "version": 3
   },
   "file_extension": ".py",
   "mimetype": "text/x-python",
   "name": "python",
   "nbconvert_exporter": "python",
   "pygments_lexer": "ipython3",
   "version": "3.7.3"
  }
 },
 "nbformat": 4,
 "nbformat_minor": 2
}
