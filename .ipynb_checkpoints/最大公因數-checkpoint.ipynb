{
 "cells": [
  {
   "cell_type": "code",
   "execution_count": 3,
   "metadata": {},
   "outputs": [
    {
     "name": "stdout",
     "output_type": "stream",
     "text": [
      "a= 75\n",
      "b= 275\n",
      "最大公因數為 25\n"
     ]
    }
   ],
   "source": [
    "# 求最大公因數程式\n",
    "a=()\n",
    "b=()\n",
    "a=int(input(\"a= \"))\n",
    "b=int(input(\"b= \"))\n",
    "\n",
    "if(a>b):\n",
    "    a,b=b,a\n",
    "    \n",
    "m=a;a=b\n",
    "\n",
    "while(m>0):\n",
    "    b=a;a=m;m=b%a\n",
    "print('最大公因數為',a)"
   ]
  },
  {
   "cell_type": "code",
   "execution_count": null,
   "metadata": {},
   "outputs": [],
   "source": []
  }
 ],
 "metadata": {
  "kernelspec": {
   "display_name": "Python 3",
   "language": "python",
   "name": "python3"
  },
  "language_info": {
   "codemirror_mode": {
    "name": "ipython",
    "version": 3
   },
   "file_extension": ".py",
   "mimetype": "text/x-python",
   "name": "python",
   "nbconvert_exporter": "python",
   "pygments_lexer": "ipython3",
   "version": "3.7.3"
  }
 },
 "nbformat": 4,
 "nbformat_minor": 2
}
