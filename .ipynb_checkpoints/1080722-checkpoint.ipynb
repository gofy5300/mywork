{
 "cells": [
  {
   "cell_type": "markdown",
   "metadata": {},
   "source": [
    "#建立類別\n"
   ]
  },
  {
   "cell_type": "code",
   "execution_count": 1,
   "metadata": {},
   "outputs": [],
   "source": [
    "class card:\n",
    "    suit=3\n",
    "    rank=5"
   ]
  },
  {
   "cell_type": "code",
   "execution_count": 2,
   "metadata": {},
   "outputs": [],
   "source": [
    "card01=card()"
   ]
  },
  {
   "cell_type": "code",
   "execution_count": 3,
   "metadata": {},
   "outputs": [
    {
     "data": {
      "text/plain": [
       "__main__.card"
      ]
     },
     "execution_count": 3,
     "metadata": {},
     "output_type": "execute_result"
    }
   ],
   "source": [
    "type(card01)"
   ]
  },
  {
   "cell_type": "code",
   "execution_count": 4,
   "metadata": {},
   "outputs": [],
   "source": [
    "card01.suit=2"
   ]
  },
  {
   "cell_type": "code",
   "execution_count": 5,
   "metadata": {},
   "outputs": [],
   "source": [
    "card01.rank=5\n"
   ]
  },
  {
   "cell_type": "code",
   "execution_count": 6,
   "metadata": {},
   "outputs": [
    {
     "data": {
      "text/plain": [
       "__main__.card"
      ]
     },
     "execution_count": 6,
     "metadata": {},
     "output_type": "execute_result"
    }
   ],
   "source": [
    "type(card01)\n"
   ]
  },
  {
   "cell_type": "code",
   "execution_count": 20,
   "metadata": {},
   "outputs": [],
   "source": [
    "class Card:\n",
    "    SUITS=['♠','♣','♦','♥']          \n",
    "    RANKS=['A','2','3','4','5','6','7','8','9','10','J','Q','k']\n",
    "    \n",
    "    def __init__(self,s,r):\n",
    "        #底線要兩格(init是指'初始'狀態)\n",
    "        self.suit=s\n",
    "        self.rank=r\n",
    "    def show(self):\n",
    "        print(self.SUITS[self.suit]+self.RANKS[self.rank])\n",
    "    "
   ]
  },
  {
   "cell_type": "code",
   "execution_count": 22,
   "metadata": {},
   "outputs": [],
   "source": [
    "card01=Card(0,3)"
   ]
  },
  {
   "cell_type": "code",
   "execution_count": 23,
   "metadata": {},
   "outputs": [
    {
     "name": "stdout",
     "output_type": "stream",
     "text": [
      "♠4\n"
     ]
    }
   ],
   "source": [
    "card01.show()"
   ]
  },
  {
   "cell_type": "code",
   "execution_count": 18,
   "metadata": {},
   "outputs": [
    {
     "data": {
      "text/plain": [
       "3"
      ]
     },
     "execution_count": 18,
     "metadata": {},
     "output_type": "execute_result"
    }
   ],
   "source": [
    "card01.rank"
   ]
  },
  {
   "cell_type": "code",
   "execution_count": 26,
   "metadata": {},
   "outputs": [],
   "source": [
    "class Card:\n",
    "    SUITS=['♠','♣','♦','♥']          \n",
    "    RANKS=['A','2','3','4','5','6','7','8','9','10','J','Q','k']\n",
    "    \n",
    "    def __init__(self,s,r):\n",
    "        #底線要兩格(init是指'初始'狀態)\n",
    "        self.suit=s\n",
    "        self.rank=r\n",
    "    def __repr__(self):\n",
    "        #底線要兩格\n",
    "        return self.SUITS[self.suit]+self.RANKS[self.rank]\n",
    "    #return 後面可以不加()\n",
    "    #repr定義希望呈現的方式\n",
    "    #class是定義新的資料型態的一種模式，不常用但要懂這!樣的概念!\n",
    "    \n",
    "    "
   ]
  },
  {
   "cell_type": "code",
   "execution_count": 29,
   "metadata": {},
   "outputs": [],
   "source": [
    "card01=Card(0,9)\n"
   ]
  },
  {
   "cell_type": "raw",
   "metadata": {},
   "source": [
    "card01\n"
   ]
  },
  {
   "cell_type": "code",
   "execution_count": 31,
   "metadata": {},
   "outputs": [
    {
     "data": {
      "text/plain": [
       "♠10"
      ]
     },
     "execution_count": 31,
     "metadata": {},
     "output_type": "execute_result"
    }
   ],
   "source": [
    "card01"
   ]
  },
  {
   "cell_type": "code",
   "execution_count": 3,
   "metadata": {},
   "outputs": [],
   "source": [
    "name=\"峰菖\"\n",
    "age=30"
   ]
  },
  {
   "cell_type": "code",
   "execution_count": 4,
   "metadata": {},
   "outputs": [],
   "source": [
    "#格式化1\n",
    "message=\"hellow,my name is %s,my age is%d years old \"%(name,age)"
   ]
  },
  {
   "cell_type": "code",
   "execution_count": 5,
   "metadata": {},
   "outputs": [
    {
     "name": "stdout",
     "output_type": "stream",
     "text": [
      "hellow,my name is 峰菖,my age is30 years old \n"
     ]
    }
   ],
   "source": [
    "print(message)"
   ]
  },
  {
   "cell_type": "markdown",
   "metadata": {},
   "source": [
    "#格式化2\n",
    "\n",
    "\n",
    "message=\"hellow,my name is {},my age is{} years old \".format(name,age)"
   ]
  },
  {
   "cell_type": "code",
   "execution_count": 8,
   "metadata": {},
   "outputs": [
    {
     "name": "stdout",
     "output_type": "stream",
     "text": [
      "hellow,my name is 峰菖,my age is30 years old \n"
     ]
    }
   ],
   "source": [
    "message=\"hellow,my name is {},my age is{} years old \".format(name,age)\n",
    "print(message)"
   ]
  },
  {
   "cell_type": "code",
   "execution_count": 9,
   "metadata": {},
   "outputs": [],
   "source": [
    "#3.6板後才有的指令\n",
    "\n",
    "message=f\"hellow,my name is {name},my age is{age} years old \""
   ]
  },
  {
   "cell_type": "code",
   "execution_count": 10,
   "metadata": {},
   "outputs": [
    {
     "name": "stdout",
     "output_type": "stream",
     "text": [
      "hellow,my name is 峰菖,my age is30 years old \n"
     ]
    }
   ],
   "source": [
    "print(message)"
   ]
  },
  {
   "cell_type": "code",
   "execution_count": 11,
   "metadata": {},
   "outputs": [],
   "source": [
    "c=31.0655483"
   ]
  },
  {
   "cell_type": "code",
   "execution_count": 13,
   "metadata": {},
   "outputs": [
    {
     "name": "stdout",
     "output_type": "stream",
     "text": [
      "1usd to twd=31.0655483元\n"
     ]
    }
   ],
   "source": [
    "print(f\"1usd to twd={c}元\")"
   ]
  },
  {
   "cell_type": "code",
   "execution_count": 14,
   "metadata": {},
   "outputs": [
    {
     "name": "stdout",
     "output_type": "stream",
     "text": [
      "1usd to twd=31.07元\n"
     ]
    }
   ],
   "source": [
    "#.2f是小數點兩位的意思\n",
    "print(f\"1usd to twd={c:.2f}元\")"
   ]
  },
  {
   "cell_type": "code",
   "execution_count": 15,
   "metadata": {},
   "outputs": [
    {
     "name": "stdout",
     "output_type": "stream",
     "text": [
      "1usd to twd=     31.07元\n"
     ]
    }
   ],
   "source": [
    "#10.2f是有10個位置放入含小數點兩位數字的意思\n",
    "\n",
    "print(f\"1usd to twd={c:10.2f}元\")"
   ]
  },
  {
   "cell_type": "code",
   "execution_count": 17,
   "metadata": {},
   "outputs": [
    {
     "name": "stdout",
     "output_type": "stream",
     "text": [
      "1usd to twd=31.0711111元\n"
     ]
    }
   ],
   "source": [
    "#0<10.2f是靠右對齊的意思\n",
    "print(f\"1usd to twd={c:1<10.2f}元\")"
   ]
  },
  {
   "cell_type": "code",
   "execution_count": 19,
   "metadata": {},
   "outputs": [
    {
     "name": "stdout",
     "output_type": "stream",
     "text": [
      "1usd to twd=0031.07000元\n"
     ]
    }
   ],
   "source": [
    "#0^10.2f是置中對齊的意思\n",
    "print(f\"1usd to twd={c:0^10.2f}元\")"
   ]
  },
  {
   "cell_type": "code",
   "execution_count": 33,
   "metadata": {},
   "outputs": [
    {
     "name": "stdout",
     "output_type": "stream",
     "text": [
      "       *        \n",
      "       **       \n",
      "      ***       \n",
      "      ****      \n",
      "     *****      \n",
      "     ******     \n",
      "    *******     \n",
      "    ********    \n",
      "   *********    \n",
      "   **********   \n",
      "  ***********   \n"
     ]
    }
   ],
   "source": [
    "for i in range(1,12,1):\n",
    "    star=\"*\"*i\n",
    "    print(f\"{star:^16s}\")"
   ]
  },
  {
   "cell_type": "code",
   "execution_count": 41,
   "metadata": {},
   "outputs": [],
   "source": [
    "#choice可重複的選擇\n",
    "#sample不會重複的選擇\n",
    "word=\"u \",\"s\",\"d\",\"k\"\n",
    "from random import choice"
   ]
  },
  {
   "cell_type": "code",
   "execution_count": 42,
   "metadata": {},
   "outputs": [
    {
     "data": {
      "text/plain": [
       "'u '"
      ]
     },
     "execution_count": 42,
     "metadata": {},
     "output_type": "execute_result"
    }
   ],
   "source": [
    "choice(word)"
   ]
  },
  {
   "cell_type": "code",
   "execution_count": 43,
   "metadata": {},
   "outputs": [],
   "source": [
    "from random import sample"
   ]
  },
  {
   "cell_type": "code",
   "execution_count": 45,
   "metadata": {},
   "outputs": [
    {
     "data": {
      "text/plain": [
       "['u ', 'k', 'd']"
      ]
     },
     "execution_count": 45,
     "metadata": {},
     "output_type": "execute_result"
    }
   ],
   "source": [
    "sample(word,3)\n"
   ]
  },
  {
   "cell_type": "code",
   "execution_count": null,
   "metadata": {},
   "outputs": [],
   "source": []
  }
 ],
 "metadata": {
  "kernelspec": {
   "display_name": "Python 3",
   "language": "python",
   "name": "python3"
  },
  "language_info": {
   "codemirror_mode": {
    "name": "ipython",
    "version": 3
   },
   "file_extension": ".py",
   "mimetype": "text/x-python",
   "name": "python",
   "nbconvert_exporter": "python",
   "pygments_lexer": "ipython3",
   "version": "3.7.3"
  }
 },
 "nbformat": 4,
 "nbformat_minor": 2
}
