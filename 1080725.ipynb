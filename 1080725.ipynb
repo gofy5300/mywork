{
 "cells": [
  {
   "cell_type": "markdown",
   "metadata": {},
   "source": [
    "# 大學 程式設計先修檢測\n",
    "\n",
    "## 2017.10.\n",
    "\n",
    "## 實作題 注意事項\n",
    "\n",
    "## 1. 請依題目敘述撰寫一完整程式，上傳送審之程式檔案副檔名\n",
    "\n",
    "## 必須為 .c, .cpp, .java, 或 .py，如下表所式。另若以 Java 撰\n",
    "\n",
    "## 寫程式，class 名稱必須與檔名 (p1, p2, p3, 或p4) 一致。\n",
    "\n",
    "## C^ C++^ Java^ Python^\n",
    "\n",
    "### 邏輯運算子 p1.c^ p1.cpp^ p1.java^ p1.py^\n",
    "\n",
    "### 交錯字串 p2.c p2.cpp p2.java p2.py\n",
    "\n",
    "### 樹狀圖分析 p3.c p3.cpp p3.java p3.py\n",
    "\n",
    "### 物品堆疊 p4.c^ p4.cpp^ p4.java^ p4.py^\n",
    "\n",
    "## 2. 上傳程式檔案前，請自行測試程式是否能正常編譯，程式執\n",
    "\n",
    "## 行時輸入、輸出格式是否正確。評分時，若程式無法正常編\n",
    "\n",
    "## 譯或執行，將以 0 分計算。\n",
    "\n",
    "\n",
    "## 邏輯運算子 (Logic Operators)\n",
    "\n",
    "#### 問題描述\n",
    "\n",
    "#### 小蘇最近在學三種邏輯運算子 AND、OR 和 XOR。這三種運算子都是二元運算子，\n",
    "\n",
    "也就是說在運算時需要兩個運算元，例如 a AND b。對於整數a與b，以下三個二元運算\n",
    "子的運算結果定義如下列三個表格：\n",
    "\n",
    "#### 舉例來說：\n",
    "\n",
    "#### (1) 0 AND 0 的結果為 0 ， 0 OR 0 以及 0 XOR 0 的結果也為 0 。\n",
    "\n",
    "#### (2) 0 AND 3 的結果為 0 ， 0 OR 3 以及 0 XOR 3 的結果則為 1 。\n",
    "\n",
    "#### (3) 4 AND 9 的結果為 1 ， 4 OR 9 的結果也為 1 ，但 4 XOR 9 的結果為 0 。\n",
    "\n",
    "```\n",
    "請撰寫一個程式，讀入 a、b 以及邏輯運算的結果，輸出可能的邏輯運算為何。\n",
    "```\n",
    "輸入格式\n",
    "輸入只有一行，共三個整數值，整數間以一個空白隔開。第一個整數代表 a，第二\n",
    "個整數代表 b，這兩數均為非負的整數。第三個整數代表邏輯運算的結果，只會是 0 或 1 。\n",
    "\n",
    "輸出格式\n",
    "輸出可能得到指定結果的運算，若有多個，輸出順序為 AND、OR、XOR，每個可能\n",
    "的運算單獨輸出一行，每行結尾皆有換行。若不可能得到指定結果，輸出 IMPOSSIBLE。\n",
    "（注意輸出時所有英文字母均為大寫字母。）\n",
    "\n",
    "```\n",
    "範例一：輸入\n",
    "0 0 0\n",
    "```\n",
    "```\n",
    "範例一：正確輸出\n",
    "AND\n",
    "OR\n",
    "XOR\n",
    "```\n",
    "#### 範例二：輸入\n",
    "\n",
    "#### 1 1 1\n",
    "\n",
    "#### 範例二：正確輸出\n",
    "\n",
    "#### AND\n",
    "\n",
    "#### OR\n",
    "\n",
    "#### 範例三：輸入\n",
    "\n",
    "#### 3 0 1\n",
    "\n",
    "#### 範例三：正確輸出\n",
    "\n",
    "#### OR\n",
    "\n",
    "#### XOR\n",
    "\n",
    "#### 範例四：輸入\n",
    "\n",
    "#### 0 0 1\n",
    "\n",
    "#### 範例四：正確輸出\n",
    "\n",
    "#### IMPOSSIBLE\n",
    "\n",
    "#### 評分說明\n",
    "\n",
    "輸入包含若干筆測試資料，每一筆測試資料的執行時間限制(time limit)均為 1 秒，依\n",
    "正確通過測資筆數給分。其中：\n",
    "第 1 子題組 80 分，a 和 b 的值只會是 0 或 1 。\n",
    "第 2 子題組 20 分， 0 _≤_ a, b < 10,000。\n",
    "\n",
    "```\n",
    "a AND b a OR b a XOR b\n",
    "b為 0 b不為 0 b為 0 b不為 0 b為 0 b不為 0\n",
    "a為 0 0 0 a為 0 0 1 a為 0 0 1\n",
    "a不為 0 0 1 a不為 0 1 1 a不為 0 1 0\n",
    "```"
   ]
  },
  {
   "cell_type": "markdown",
   "metadata": {},
   "source": [
    "print('a='a,'b='b)"
   ]
  },
  {
   "cell_type": "code",
   "execution_count": 5,
   "metadata": {},
   "outputs": [
    {
     "ename": "SyntaxError",
     "evalue": "invalid syntax (<ipython-input-5-50edfcbf2185>, line 1)",
     "output_type": "error",
     "traceback": [
      "\u001b[1;36m  File \u001b[1;32m\"<ipython-input-5-50edfcbf2185>\"\u001b[1;36m, line \u001b[1;32m1\u001b[0m\n\u001b[1;33m    input(f'(a'=','b='.format(a,b))\u001b[0m\n\u001b[1;37m                   ^\u001b[0m\n\u001b[1;31mSyntaxError\u001b[0m\u001b[1;31m:\u001b[0m invalid syntax\n"
     ]
    }
   ],
   "source": [
    "input(f'(a'=','b='.format(a,b))"
   ]
  },
  {
   "cell_type": "code",
   "execution_count": 7,
   "metadata": {},
   "outputs": [
    {
     "ename": "IndentationError",
     "evalue": "unindent does not match any outer indentation level (<tokenize>, line 13)",
     "output_type": "error",
     "traceback": [
      "\u001b[1;36m  File \u001b[1;32m\"<tokenize>\"\u001b[1;36m, line \u001b[1;32m13\u001b[0m\n\u001b[1;33m    else\u001b[0m\n\u001b[1;37m    ^\u001b[0m\n\u001b[1;31mIndentationError\u001b[0m\u001b[1;31m:\u001b[0m unindent does not match any outer indentation level\n"
     ]
    }
   ],
   "source": [
    "#AND\n",
    "if a==0\n",
    "    if b==0\n",
    "        c=0\n",
    "        print(a,b,c)\n",
    "    else\n",
    "        c=0\n",
    "        print(a,b,c)\n",
    "else\n",
    "     if b==0\n",
    "        c=0\n",
    "        print(a,b,c)\n",
    "    else\n",
    "        c=1\n",
    "        print(a,b,c)\n",
    "#OR\n"
   ]
  },
  {
   "cell_type": "code",
   "execution_count": 8,
   "metadata": {},
   "outputs": [
    {
     "name": "stdout",
     "output_type": "stream",
     "text": [
      "1 1 1\n"
     ]
    },
    {
     "ename": "TypeError",
     "evalue": "'list' object is not callable",
     "output_type": "error",
     "traceback": [
      "\u001b[1;31m---------------------------------------------------------------------------\u001b[0m",
      "\u001b[1;31mTypeError\u001b[0m                                 Traceback (most recent call last)",
      "\u001b[1;32m<ipython-input-8-bc814e765b82>\u001b[0m in \u001b[0;36m<module>\u001b[1;34m\u001b[0m\n\u001b[0;32m      1\u001b[0m \u001b[0mline\u001b[0m\u001b[1;33m=\u001b[0m\u001b[0minput\u001b[0m\u001b[1;33m(\u001b[0m\u001b[1;33m)\u001b[0m\u001b[1;33m.\u001b[0m\u001b[0msplit\u001b[0m\u001b[1;33m(\u001b[0m\u001b[1;33m)\u001b[0m\u001b[1;33m\u001b[0m\u001b[1;33m\u001b[0m\u001b[0m\n\u001b[1;32m----> 2\u001b[1;33m \u001b[0ma\u001b[0m\u001b[1;33m,\u001b[0m\u001b[0mb\u001b[0m\u001b[1;33m,\u001b[0m\u001b[0mc\u001b[0m\u001b[1;33m=\u001b[0m\u001b[0mline\u001b[0m\u001b[1;33m(\u001b[0m\u001b[1;33m)\u001b[0m\u001b[1;33m.\u001b[0m\u001b[0msplit\u001b[0m\u001b[1;33m(\u001b[0m\u001b[1;33m)\u001b[0m\u001b[1;33m\u001b[0m\u001b[1;33m\u001b[0m\u001b[0m\n\u001b[0m",
      "\u001b[1;31mTypeError\u001b[0m: 'list' object is not callable"
     ]
    }
   ],
   "source": [
    "line=input().split()\n",
    "a,b,c=line().split()"
   ]
  },
  {
   "cell_type": "code",
   "execution_count": 1,
   "metadata": {},
   "outputs": [
    {
     "name": "stdout",
     "output_type": "stream",
     "text": [
      "1 3 4\n",
      "AND\n",
      "OR\n"
     ]
    }
   ],
   "source": [
    "line=input().split()\n",
    "a,b,c=map(int,line)\n",
    "if a!=0:\n",
    "    a=1\n",
    "if b!=0:\n",
    "    b=1\n",
    "if c!=0:\n",
    "    c=1\n",
    "\n",
    "fail=True\n",
    "if(a&b==c):\n",
    "    print('AND')\n",
    "    fail=False\n",
    "if(a|b==c):\n",
    "    print('OR')\n",
    "    fail=False\n",
    "if(a^b==c):\n",
    "    print('XOR')\n",
    "    fail=False\n",
    "if fail:\n",
    "    print('IMPOSSIBLE')"
   ]
  },
  {
   "cell_type": "code",
   "execution_count": 14,
   "metadata": {},
   "outputs": [
    {
     "data": {
      "text/plain": [
       "(1, 1, 1)"
      ]
     },
     "execution_count": 14,
     "metadata": {},
     "output_type": "execute_result"
    }
   ],
   "source": [
    "\n",
    "\n",
    "a,b,c\n"
   ]
  },
  {
   "cell_type": "code",
   "execution_count": null,
   "metadata": {},
   "outputs": [],
   "source": [
    "%%writefile"
   ]
  },
  {
   "cell_type": "code",
   "execution_count": 10,
   "metadata": {},
   "outputs": [
    {
     "data": {
      "text/plain": [
       "['1', '1', '0']"
      ]
     },
     "execution_count": 10,
     "metadata": {},
     "output_type": "execute_result"
    }
   ],
   "source": [
    "line"
   ]
  },
  {
   "cell_type": "code",
   "execution_count": 41,
   "metadata": {},
   "outputs": [
    {
     "name": "stdout",
     "output_type": "stream",
     "text": [
      "11\n",
      "11000110011\n"
     ]
    }
   ],
   "source": [
    "st2=[]\n",
    "st3=[]\n",
    "st='DDaasAAbbCC'\n",
    "a=len(st)\n",
    "print(a)\n",
    "st1=list(st)\n",
    "for i in range(len(st)):\n",
    "    if st[i].islower():\n",
    "        st2.append(0)\n",
    "    else:\n",
    "        st2.append(1)\n",
    "list(st2)\n",
    "st3=\"\".join(map(str,st2))\n",
    "print(st3)\n"
   ]
  },
  {
   "cell_type": "code",
   "execution_count": 7,
   "metadata": {},
   "outputs": [
    {
     "name": "stdout",
     "output_type": "stream",
     "text": [
      "2\n",
      "aBBdaaa\n",
      "4\n"
     ]
    }
   ],
   "source": [
    "k=int(input())\n",
    "line=input()\n",
    "\n",
    "st=''.join([str(int(x.isupper()))for x in line ])\n",
    "\n",
    "pattern=['0'*k,'1'*k]\n",
    "p0=''\n",
    "p1=''\n",
    " \n",
    "c=True\n",
    "m=0\n",
    "\n",
    "while c:\n",
    "    p0=p0+pattern[m%2]\n",
    "    p1=p1+pattern[(m+1)%2]\n",
    "    \n",
    "    if (p0 in st) or (p1 in st):\n",
    "        m=m+1\n",
    "    else:\n",
    "        c=False\n",
    "print(m*k)\n",
    "\n"
   ]
  },
  {
   "cell_type": "code",
   "execution_count": 15,
   "metadata": {},
   "outputs": [
    {
     "name": "stdout",
     "output_type": "stream",
     "text": [
      "Writing test028.txt\n"
     ]
    }
   ],
   "source": [
    "%%writefile \"test028.txt\"\n",
    "3\n",
    "DDaaAAbbCC\n"
   ]
  },
  {
   "cell_type": "code",
   "execution_count": 10,
   "metadata": {},
   "outputs": [
    {
     "name": "stdout",
     "output_type": "stream",
     "text": [
      "The following commands were written to file `p01.py`:\n",
      "k=int(input())\n",
      "line=input()\n",
      "\n",
      "st=''.join([str(int(x.isupper()))for x in line ])\n",
      "\n",
      "pattern=['0'*k,'1'*k]\n",
      "p0=''\n",
      "p1=''\n",
      " \n",
      "c=True\n",
      "m=0\n",
      "\n",
      "while c:\n",
      "    p0=p0+pattern[m%2]\n",
      "    p1=p1+pattern[(m+1)%2]\n",
      "    \n",
      "    if (p0 in st) or (p1 in st):\n",
      "        m=m+1\n",
      "    else:\n",
      "        c=False\n",
      "print(m*k)\n"
     ]
    }
   ],
   "source": [
    "%save \"p01.py\" 7"
   ]
  },
  {
   "cell_type": "code",
   "execution_count": 17,
   "metadata": {},
   "outputs": [
    {
     "name": "stdout",
     "output_type": "stream",
     "text": [
      "8\n"
     ]
    }
   ],
   "source": [
    "!python p01.py < test027.txt"
   ]
  },
  {
   "cell_type": "code",
   "execution_count": null,
   "metadata": {},
   "outputs": [],
   "source": []
  },
  {
   "cell_type": "code",
   "execution_count": null,
   "metadata": {},
   "outputs": [],
   "source": []
  }
 ],
 "metadata": {
  "kernelspec": {
   "display_name": "Python 3",
   "language": "python",
   "name": "python3"
  },
  "language_info": {
   "codemirror_mode": {
    "name": "ipython",
    "version": 3
   },
   "file_extension": ".py",
   "mimetype": "text/x-python",
   "name": "python",
   "nbconvert_exporter": "python",
   "pygments_lexer": "ipython3",
   "version": "3.7.3"
  }
 },
 "nbformat": 4,
 "nbformat_minor": 2
}
