{
 "cells": [
  {
   "cell_type": "code",
   "execution_count": 40,
   "metadata": {},
   "outputs": [],
   "source": [
    "%matplotlib inline\n",
    "import numpy as np\n",
    "import matplotlib.pyplot as plt\n"
   ]
  },
  {
   "cell_type": "code",
   "execution_count": 51,
   "metadata": {},
   "outputs": [
    {
     "name": "stdout",
     "output_type": "stream",
     "text": [
      "請出拳!1:剪刀、2:石頭、還是3:布呢! 布\n",
      "布\n"
     ]
    }
   ],
   "source": [
    "\n",
    "b=input('請出拳!1:剪刀、2:石頭、還是3:布呢! ')\n",
    "print(b)"
   ]
  },
  {
   "cell_type": "code",
   "execution_count": 50,
   "metadata": {},
   "outputs": [
    {
     "name": "stdout",
     "output_type": "stream",
     "text": [
      "布\n"
     ]
    }
   ],
   "source": [
    "from random import randint\n",
    "a=[]\n",
    "sts={1:'剪刀',2:'石頭',3:'布'}\n",
    "i=randint(1,3)\n",
    "a=sts[i]\n",
    "#字典模式需要用中括弧不能用小括弧\n",
    "print(a)"
   ]
  },
  {
   "cell_type": "code",
   "execution_count": 129,
   "metadata": {},
   "outputs": [
    {
     "name": "stdout",
     "output_type": "stream",
     "text": [
      "請出拳!1:剪刀、2:石頭、還是3:布呢?2\n",
      "石頭\n",
      "石頭\n",
      "石頭石頭\n"
     ]
    },
    {
     "ename": "TypeError",
     "evalue": "'sts2' is an invalid keyword argument for print()",
     "output_type": "error",
     "traceback": [
      "\u001b[1;31m---------------------------------------------------------------------------\u001b[0m",
      "\u001b[1;31mTypeError\u001b[0m                                 Traceback (most recent call last)",
      "\u001b[1;32m<ipython-input-129-9fad01c25a0f>\u001b[0m in \u001b[0;36m<module>\u001b[1;34m\u001b[0m\n\u001b[0;32m     15\u001b[0m \u001b[0mst\u001b[0m\u001b[1;33m=\u001b[0m\u001b[0ma\u001b[0m\u001b[1;33m+\u001b[0m\u001b[0mb\u001b[0m\u001b[1;33m\u001b[0m\u001b[1;33m\u001b[0m\u001b[0m\n\u001b[0;32m     16\u001b[0m \u001b[0mprint\u001b[0m\u001b[1;33m(\u001b[0m\u001b[0mst\u001b[0m\u001b[1;33m)\u001b[0m\u001b[1;33m\u001b[0m\u001b[1;33m\u001b[0m\u001b[0m\n\u001b[1;32m---> 17\u001b[1;33m \u001b[0mprint\u001b[0m\u001b[1;33m(\u001b[0m\u001b[0msts2\u001b[0m\u001b[1;33m=\u001b[0m\u001b[1;33m[\u001b[0m\u001b[1;34m'st'\u001b[0m\u001b[1;33m]\u001b[0m\u001b[1;33m)\u001b[0m\u001b[1;33m\u001b[0m\u001b[1;33m\u001b[0m\u001b[0m\n\u001b[0m",
      "\u001b[1;31mTypeError\u001b[0m: 'sts2' is an invalid keyword argument for print()"
     ]
    }
   ],
   "source": [
    "from random import randint\n",
    "sts={1:'剪刀',2:'石頭',3:'布'}\n",
    "sts2={'剪刀布':'勝利','布石頭':'贏了','石頭剪刀':'YA!獲勝!','剪刀石頭':'輸了','石頭布':'可惡,你運氣好','布剪刀':'下次一定贏你'}\n",
    "a=[]\n",
    "b=[]\n",
    "\n",
    "i=int(input('請出拳!1:剪刀、2:石頭、還是3:布呢?'))\n",
    "a=sts[i]\n",
    "print(a)\n",
    "\n",
    "j=randint(1,3)\n",
    "b=sts[j]\n",
    "#字典模式需要用中括弧不能用小括弧\n",
    "print(b)\n",
    "st=a+b\n",
    "print(st)\n",
    "print(sts2=['st'])"
   ]
  },
  {
   "cell_type": "code",
   "execution_count": 142,
   "metadata": {},
   "outputs": [
    {
     "ename": "NameError",
     "evalue": "name '剪刀布' is not defined",
     "output_type": "error",
     "traceback": [
      "\u001b[1;31m---------------------------------------------------------------------------\u001b[0m",
      "\u001b[1;31mNameError\u001b[0m                                 Traceback (most recent call last)",
      "\u001b[1;32m<ipython-input-142-483b002ca9f2>\u001b[0m in \u001b[0;36m<module>\u001b[1;34m\u001b[0m\n\u001b[0;32m      3\u001b[0m \u001b[0msts1\u001b[0m\u001b[1;33m=\u001b[0m\u001b[1;33m{\u001b[0m\u001b[1;36m1\u001b[0m\u001b[1;33m:\u001b[0m\u001b[1;34m'剪刀'\u001b[0m\u001b[1;33m,\u001b[0m\u001b[1;36m2\u001b[0m\u001b[1;33m:\u001b[0m\u001b[1;34m'石頭'\u001b[0m\u001b[1;33m,\u001b[0m\u001b[1;36m3\u001b[0m\u001b[1;33m:\u001b[0m\u001b[1;34m'布'\u001b[0m\u001b[1;33m}\u001b[0m\u001b[1;33m\u001b[0m\u001b[1;33m\u001b[0m\u001b[0m\n\u001b[0;32m      4\u001b[0m \u001b[0msts2\u001b[0m\u001b[1;33m=\u001b[0m\u001b[1;33m{\u001b[0m\u001b[1;36m4\u001b[0m\u001b[1;33m:\u001b[0m\u001b[1;34m'剪刀'\u001b[0m\u001b[1;33m,\u001b[0m\u001b[1;36m5\u001b[0m\u001b[1;33m:\u001b[0m\u001b[1;34m'石頭'\u001b[0m\u001b[1;33m,\u001b[0m\u001b[1;36m6\u001b[0m\u001b[1;33m:\u001b[0m\u001b[1;34m'布'\u001b[0m\u001b[1;33m}\u001b[0m\u001b[1;33m\u001b[0m\u001b[1;33m\u001b[0m\u001b[0m\n\u001b[1;32m----> 5\u001b[1;33m \u001b[0msts3\u001b[0m\u001b[1;33m=\u001b[0m\u001b[1;33m{\u001b[0m\u001b[0m剪刀布\u001b[0m\u001b[1;33m:\u001b[0m\u001b[1;34m'勝利'\u001b[0m\u001b[1;33m,\u001b[0m\u001b[0m布石頭\u001b[0m\u001b[1;33m:\u001b[0m\u001b[1;34m'贏了'\u001b[0m\u001b[1;33m,\u001b[0m\u001b[0m石頭剪刀\u001b[0m\u001b[1;33m:\u001b[0m\u001b[1;34m'YA!獲勝!'\u001b[0m\u001b[1;33m,\u001b[0m\u001b[0m剪刀石頭\u001b[0m\u001b[1;33m:\u001b[0m\u001b[1;34m'輸了'\u001b[0m\u001b[1;33m,\u001b[0m\u001b[0m石頭布\u001b[0m\u001b[1;33m:\u001b[0m\u001b[1;34m'可惡,你運氣好'\u001b[0m\u001b[1;33m,\u001b[0m\u001b[0m布剪刀\u001b[0m\u001b[1;33m:\u001b[0m\u001b[1;34m'下次一定贏你'\u001b[0m\u001b[1;33m}\u001b[0m\u001b[1;33m\u001b[0m\u001b[1;33m\u001b[0m\u001b[0m\n\u001b[0m\u001b[0;32m      6\u001b[0m \u001b[0ma\u001b[0m\u001b[1;33m=\u001b[0m\u001b[1;33m[\u001b[0m\u001b[1;33m]\u001b[0m\u001b[1;33m\u001b[0m\u001b[1;33m\u001b[0m\u001b[0m\n\u001b[0;32m      7\u001b[0m \u001b[0mb\u001b[0m\u001b[1;33m=\u001b[0m\u001b[1;33m[\u001b[0m\u001b[1;33m]\u001b[0m\u001b[1;33m\u001b[0m\u001b[1;33m\u001b[0m\u001b[0m\n",
      "\u001b[1;31mNameError\u001b[0m: name '剪刀布' is not defined"
     ]
    }
   ],
   "source": [
    "from random import randint\n",
    "\n",
    "sts1={1:'剪刀',2:'石頭',3:'布'}\n",
    "sts2={4:'剪刀',5:'石頭',6:'布'}\n",
    "sts3={剪刀布:'勝利',布石頭:'贏了',石頭剪刀:'YA!獲勝!',剪刀石頭:'輸了',石頭布:'可惡,你運氣好',布剪刀:'下次一定贏你'}\n",
    "a=[]\n",
    "b=[]\n",
    "\n",
    "i=int(input('請出拳!1:剪刀、2:石頭、還是3:布呢?'))\n",
    "a=sts1[i]\n",
    "print(a)\n",
    "\n",
    "j=randint(4,6)\n",
    "b=sts2[j]\n",
    "#字典模式需要用中括弧不能用小括弧\n",
    "print(b)\n",
    "st=a+b\n",
    "print(st)\n",
    "c=list(st)\n",
    "print(c)\n",
    "print(sts3=[st])"
   ]
  },
  {
   "cell_type": "code",
   "execution_count": 101,
   "metadata": {},
   "outputs": [
    {
     "data": {
      "text/plain": [
       "'石頭'"
      ]
     },
     "execution_count": 101,
     "metadata": {},
     "output_type": "execute_result"
    }
   ],
   "source": [
    "b"
   ]
  },
  {
   "cell_type": "code",
   "execution_count": 165,
   "metadata": {},
   "outputs": [
    {
     "name": "stdout",
     "output_type": "stream",
     "text": [
      "請出拳!1:剪刀、2:石頭、3:布,請出拳?2\n",
      "石頭對剪刀,YA!獲勝!\n"
     ]
    }
   ],
   "source": [
    "from random import randint\n",
    "\n",
    "\n",
    "sts1={1:'剪刀',2:'石頭',3:'布'}\n",
    "sts2={4:'剪刀',5:'石頭',6:'布'}\n",
    "sts3={16:'剪刀對布讚啦!獲勝',35:'布對石頭贏了',24:'石頭對剪刀,YA!獲勝!',15:'剪刀對石頭輸了',26:'石頭對布可惡,你運氣好',\n",
    "      34:'布對剪刀下次一定贏你',14:'平手再來!',25:'平手再來!',36:'平手再來!'}\n",
    "\n",
    "a=[]\n",
    "b=[]\n",
    "\n",
    "i=int(input('請出拳!1:剪刀、2:石頭、3:布,請出拳?'))\n",
    "a=sts1[i]\n",
    "#print(a)\n",
    "\n",
    "j=randint(4,6)\n",
    "b=sts2[j]\n",
    "#字典模式需要用中括弧不能用小括弧\n",
    "#print(b)\n",
    "st=int(i)*10+int(j)\n",
    "#print(st)\n",
    "c=sts3[st]\n",
    "print(c)\n"
   ]
  },
  {
   "cell_type": "code",
   "execution_count": 2,
   "metadata": {},
   "outputs": [],
   "source": [
    "from random import randint\n",
    "def game():\n",
    "\n",
    "    sts1={1:'剪刀',2:'石頭',3:'布'}\n",
    "    sts2={4:'剪刀',5:'石頭',6:'布'}\n",
    "    sts3={16:'剪刀對布讚啦!獲勝',35:'布對石頭贏了',24:'石頭對剪刀,YA!獲勝!',15:'剪刀對石頭輸了',26:'石頭對布可惡,你運氣好',\n",
    "      34:'布對剪刀下次一定贏你',14:'平手再來!',25:'平手再來!',36:'平手再來!'}\n",
    "\n",
    "    i=int(input('請出拳!1:剪刀、2:石頭、3:布,請出拳?'))\n",
    "    a=sts1[i]\n",
    "    j=randint(4,6)\n",
    "    b=sts2[j]\n",
    "    st=int(i)*10+int(j)\n",
    "    c=sts3[st]\n",
    "    print(c)"
   ]
  },
  {
   "cell_type": "code",
   "execution_count": 3,
   "metadata": {},
   "outputs": [
    {
     "name": "stdout",
     "output_type": "stream",
     "text": [
      "請出拳!1:剪刀、2:石頭、3:布,請出拳?2\n",
      "石頭對剪刀,YA!獲勝!\n"
     ]
    }
   ],
   "source": [
    "game()"
   ]
  },
  {
   "cell_type": "code",
   "execution_count": null,
   "metadata": {},
   "outputs": [],
   "source": []
  }
 ],
 "metadata": {
  "kernelspec": {
   "display_name": "Python 3",
   "language": "python",
   "name": "python3"
  },
  "language_info": {
   "codemirror_mode": {
    "name": "ipython",
    "version": 3
   },
   "file_extension": ".py",
   "mimetype": "text/x-python",
   "name": "python",
   "nbconvert_exporter": "python",
   "pygments_lexer": "ipython3",
   "version": "3.7.3"
  }
 },
 "nbformat": 4,
 "nbformat_minor": 2
}
